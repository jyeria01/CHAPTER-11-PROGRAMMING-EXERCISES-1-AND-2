{
 "cells": [
  {
   "cell_type": "markdown",
   "id": "714fed23",
   "metadata": {},
   "source": [
    "# PROGRAMMING EXERCISE 1 - Employee and ProductionWorker Classes"
   ]
  },
  {
   "cell_type": "markdown",
   "id": "d8c8fa36",
   "metadata": {},
   "source": [
    "# Algorithm"
   ]
  },
  {
   "cell_type": "code",
   "execution_count": 1,
   "id": "d898b22e",
   "metadata": {},
   "outputs": [],
   "source": [
    "# Define the Employee class\n",
    "# Initialize the Employee object with name and id_number\n",
    "# Mutator method for setting the employee's name\n",
    "# Mutator method for setting the employee's id_number\n",
    "# Accessor method for getting the employee's name\n",
    "# Accessor method for getting the employee's id_number\n",
    "# Define the ProductionWorker class, a subclass of Employee\n",
    "# Mutator method for setting the employee's shift_number\n",
    "# Mutator method for setting the employee's pay_rate\n",
    "# Accessor method for getting the employee's shift_number\n",
    "# Accessor method for getting the employee's pay_rate\n",
    "# Define main function\n",
    "# Create a ProductionWorker object with the entered data\n",
    "# Display the employee's information using accessor methods\n",
    "# Call the main function"
   ]
  },
  {
   "cell_type": "code",
   "execution_count": null,
   "id": "f2991e8c",
   "metadata": {},
   "outputs": [],
   "source": [
    "# Define the Employee class\n",
    "\n",
    "\n",
    "# Initialize the Employee object with name and id_number\n",
    "\n",
    "\n",
    "# Mutator method for setting the employee's name\n",
    "\n",
    "\n",
    "# Mutator method for setting the employee's id_number\n",
    "\n",
    "\n",
    "# Accessor method for getting the employee's name\n",
    "\n",
    "\n",
    "# Accessor method for getting the employee's id_number\n",
    "\n",
    "\n",
    "# Define the ProductionWorker class, a subclass of Employee\n",
    "\n",
    "\n",
    "# Mutator method for setting the employee's shift_number\n",
    "\n",
    "\n",
    "# Mutator method for setting the employee's pay_rate\n",
    "\n",
    "\n",
    "# Accessor method for getting the employee's shift_number\n",
    "\n",
    "\n",
    "# Accessor method for getting the employee's pay_rate\n",
    "\n",
    "\n",
    "# Define main function\n",
    "\n",
    "\n",
    "# Create a ProductionWorker object with the entered data\n",
    "\n",
    "\n",
    "# Display the employee's information using accessor methods\n",
    "\n",
    "\n",
    "# Call the main function\n"
   ]
  }
 ],
 "metadata": {
  "kernelspec": {
   "display_name": "Python 3 (ipykernel)",
   "language": "python",
   "name": "python3"
  },
  "language_info": {
   "codemirror_mode": {
    "name": "ipython",
    "version": 3
   },
   "file_extension": ".py",
   "mimetype": "text/x-python",
   "name": "python",
   "nbconvert_exporter": "python",
   "pygments_lexer": "ipython3",
   "version": "3.11.4"
  }
 },
 "nbformat": 4,
 "nbformat_minor": 5
}
