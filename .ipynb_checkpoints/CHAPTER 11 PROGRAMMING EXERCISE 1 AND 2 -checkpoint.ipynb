{
 "cells": [
  {
   "cell_type": "markdown",
   "id": "ee67a8fe",
   "metadata": {},
   "source": [
    "# PROGRAMMING EXERCISE 1 - Employee and ProductionWorker Classes"
   ]
  },
  {
   "cell_type": "markdown",
   "id": "73cf53ba",
   "metadata": {},
   "source": [
    "# Algorithm"
   ]
  },
  {
   "cell_type": "code",
   "execution_count": 1,
   "id": "ec3f9b28",
   "metadata": {},
   "outputs": [],
   "source": [
    "# Define the Employee class\n",
    "# Initialize the Employee object with name and id_number\n",
    "# Mutator method for setting the employee's name\n",
    "# Mutator method for setting the employee's id_number\n",
    "# Accessor method for getting the employee's name\n",
    "# Accessor method for getting the employee's id_number\n",
    "# Define the ProductionWorker class, a subclass of Employee\n",
    "# Mutator method for setting the employee's shift_number\n",
    "# Mutator method for setting the employee's pay_rate\n",
    "# Accessor method for getting the employee's shift_number\n",
    "# Accessor method for getting the employee's pay_rate\n",
    "# Define main function\n",
    "# Create a ProductionWorker object with the entered data\n",
    "# Display the employee's information using accessor methods\n",
    "# Call the main function"
   ]
  },
  {
   "cell_type": "code",
   "execution_count": 22,
   "id": "88e3c19f",
   "metadata": {
    "scrolled": false
   },
   "outputs": [
    {
     "name": "stdout",
     "output_type": "stream",
     "text": [
      "Enter the employee information\n",
      "Enter Employee name: Jim Harbaugh\n",
      "Enter Employee ID number: 91201\n",
      "Enter shift number (1 for day, 2 for night): 1\n",
      "Enter hourly pay rate: 34.13\n",
      "Employee Name: Jim Harbaugh\n",
      "Employee ID Number: 91201\n",
      "Shift: Night\n",
      "Hourly Pay Rate: $34.13\n"
     ]
    }
   ],
   "source": [
    "# Define the Employee class\n",
    "class Employee:\n",
    "\n",
    "    # Initialize the Employee object with name and id_number\n",
    "    def __init__(self, name, id_number):\n",
    "        self.__name = name\n",
    "        self.__id_number = id_number\n",
    "        \n",
    "    # Mutator method for setting the employee's name\n",
    "    def set_name(self, name):\n",
    "        self.__name = name\n",
    "\n",
    "    # Mutator method for setting the employee's id_number\n",
    "    def set_id_number(self, id_number):\n",
    "        self.__id_number = id_number\n",
    "\n",
    "    # Accessor method for getting the employee's name\n",
    "    def get_name(self):\n",
    "        return self.__name\n",
    "\n",
    "    # Accessor method for getting the employee's id_number\n",
    "    def get_id_number(self):\n",
    "        return self.__id_number\n",
    "\n",
    "# Define the ProductionWorker class, a subclass of Employee\n",
    "class ProductionWorker(Employee):\n",
    "    \n",
    "    # Initialize the ProductionWorker class object\n",
    "    def __init__(self, name, id_number, shift_number, pay_rate):\n",
    "        Employee.__init__(self, name, id_number)\n",
    "        self.__shift_number = shift_number\n",
    "        self.__pay_rate = pay_rate\n",
    "\n",
    "    # Mutator method for setting the employee's shift_number\n",
    "    def set_shift_number(self, shift_number):\n",
    "        self.__shift_number = shift_number\n",
    "\n",
    "    # Mutator method for setting the employee's pay_rate\n",
    "    def set_pay_rate(self, pay_rate):\n",
    "        self.__pay_rate = pay_rate\n",
    "\n",
    "    # Accessor method for getting the employee's shift_number\n",
    "    def get_shift_number(self):\n",
    "        return self.__shift_number\n",
    "\n",
    "    # Accessor method for getting the employee's pay_rate\n",
    "    def get_pay_rate(self):\n",
    "        return self.__pay_rate\n",
    "\n",
    "# Define main function\n",
    "def main():\n",
    "    print('Enter the employee information')\n",
    "    name = input('Enter Employee name: ')\n",
    "    id_number = input('Enter Employee ID number: ')\n",
    "    shift_number = int(input('Enter shift number (1 for day, 2 for night): '))\n",
    "    pay_rate = float(input('Enter hourly pay rate: '))\n",
    "\n",
    "# Create a ProductionWorker object with the entered data\n",
    "    worker = ProductionWorker(name, id_number, shift_number, pay_rate)\n",
    "\n",
    "# Display the employee's information using accessor methods\n",
    "    print(f'Employee Name: {worker.get_name()}')\n",
    "    print(f'Employee ID Number: {worker.get_id_number()}')\n",
    "    if worker.get_shift_number() == 1:\n",
    "        print('Shift: Night')\n",
    "    elif worker.get.shift_number() == 2:\n",
    "        print('Shift: Night')\n",
    "    print(f'Hourly Pay Rate: ${worker.get_pay_rate():,.2f}')\n",
    "    \n",
    "# Call the main function\n",
    "if __name__ == '__main__':\n",
    "    main()"
   ]
  },
  {
   "cell_type": "markdown",
   "id": "f24bc536",
   "metadata": {},
   "source": [
    "# Programming Exercise 1 - MODULE"
   ]
  },
  {
   "cell_type": "code",
   "execution_count": 25,
   "id": "56f5962e",
   "metadata": {},
   "outputs": [
    {
     "name": "stdout",
     "output_type": "stream",
     "text": [
      "Enter the employee information\n",
      "Enter Employee name: JOsh Yerian\n",
      "Enter Employee ID number: 91201\n",
      "Enter shift number (1 for day, 2 for night): 1\n",
      "Enter hourly pay rate: 24.50\n",
      "Employee Name: JOsh Yerian\n",
      "Employee ID Number: 91201\n",
      "Shift: Night\n",
      "Hourly Pay Rate: $24.50\n"
     ]
    }
   ],
   "source": [
    "import manage_employees\n",
    "# Define main function\n",
    "def main():\n",
    "    print('Enter the employee information')\n",
    "    name = input('Enter Employee name: ')\n",
    "    id_number = input('Enter Employee ID number: ')\n",
    "    shift_number = int(input('Enter shift number (1 for day, 2 for night): '))\n",
    "    pay_rate = float(input('Enter hourly pay rate: '))\n",
    "\n",
    "# Create a ProductionWorker object with the entered data\n",
    "    worker = ProductionWorker(name, id_number, shift_number, pay_rate)\n",
    "\n",
    "# Display the employee's information using accessor methods\n",
    "    print(f'Employee Name: {worker.get_name()}')\n",
    "    print(f'Employee ID Number: {worker.get_id_number()}')\n",
    "    if worker.get_shift_number() == 1:\n",
    "        print('Shift: Night')\n",
    "    elif worker.get.shift_number() == 2:\n",
    "        print('Shift: Night')\n",
    "    print(f'Hourly Pay Rate: ${worker.get_pay_rate():,.2f}')\n",
    "    \n",
    "# Call the main function\n",
    "if __name__ == '__main__':\n",
    "    main()"
   ]
  },
  {
   "cell_type": "markdown",
   "id": "ce852f11",
   "metadata": {},
   "source": [
    "# PROGRAMMING EXERCISE 2 - ShiftSupervisor Classes"
   ]
  },
  {
   "cell_type": "markdown",
   "id": "52bbe2a2",
   "metadata": {},
   "source": [
    "# ALGORITHM"
   ]
  },
  {
   "cell_type": "code",
   "execution_count": 26,
   "id": "94d0f43f",
   "metadata": {},
   "outputs": [],
   "source": [
    "# Define the Employee class\n",
    "# Initialize the Employee object with name and id_number\n",
    "# Mutator method for setting the employee's name\n",
    "# Mutator method for setting the employee's id_number\n",
    "# Accessor method for getting the employee's name\n",
    "# Accessor method for getting the employee's id_number\n",
    "# define shiftSupervisor class, subclass of Employee\n",
    "# initials the ShifSupervisor object\n",
    "# Mutator Method for annual salary\n",
    "# mutator method for annual bonus\n",
    "# Accessor method for annual salary\n",
    "# Accessor method for annual bonus\n",
    "# Define main function\n",
    "# Create shiftSupervisor objece with data entered\n",
    "# Display object with data entered\n",
    "# Call the main function"
   ]
  },
  {
   "cell_type": "code",
   "execution_count": 6,
   "id": "7385c00f",
   "metadata": {},
   "outputs": [
    {
     "name": "stdout",
     "output_type": "stream",
     "text": [
      "Enter the Shift Supervisor information\n",
      "Enter the Shift Supervisor name: Jim Harbaugh\n",
      "Enter Employee ID number: 91201\n",
      "Enter annual salary: $10000000\n",
      "Enter annual bonus: $2500000\n",
      "Shift Supervisor Name: Jim Harbaugh\n",
      "Employee ID Number: 91201\n",
      "Annual Salary: $10,000,000.00\n",
      "Annual Bonus: $2,500,000.00\n"
     ]
    }
   ],
   "source": [
    "# Define the Employee class\n",
    "class Employee:\n",
    "\n",
    "    # Initialize the Employee object with name and id_number\n",
    "    def __init__(self, name, id_number):\n",
    "        self.__name = name\n",
    "        self.__id_number = id_number\n",
    "        \n",
    "    # Mutator method for setting the employee's name\n",
    "    def set_name(self, name):\n",
    "        self.__name = name\n",
    "\n",
    "    # Mutator method for setting the employee's id_number\n",
    "    def set_id_number(self, id_number):\n",
    "        self.__id_number = id_number\n",
    "\n",
    "    # Accessor method for getting the employee's name\n",
    "    def get_name(self):\n",
    "        return self.__name\n",
    "\n",
    "    # Accessor method for getting the employee's id_number\n",
    "    def get_id_number(self):\n",
    "        return self.__id_number\n",
    "\n",
    "# Define ShiftSupervisor class, a subclass of Employee\n",
    "class ShiftSupervisor(Employee):\n",
    "\n",
    "    # Initialize the ShiftSupervisor object\n",
    "    def __init__(self, name, id_number, annual_salary, annual_bonus):\n",
    "        Employee.__init__(self, name, id_number)\n",
    "        self.__annual_salary = annual_salary\n",
    "        self.__annual_bonus = annual_bonus\n",
    "\n",
    "    # Mutator Method for annual salary\n",
    "    def set_annual_salary(self, annual_salary):\n",
    "        self.__annual_salary = annual_salary\n",
    "\n",
    "    # Mutator method for annual bonus\n",
    "    def set_annual_bonus(self, annual_bonus):\n",
    "        self.__annual_bonus = annual_bonus\n",
    "\n",
    "    # Accessor method for annual salary\n",
    "    def get_annual_salary(self):\n",
    "        return self.__annual_salary\n",
    "\n",
    "    # Accessor method for annual bonus\n",
    "    def get_annual_bonus(self):\n",
    "        return self.__annual_bonus\n",
    "\n",
    "# Define main function\n",
    "def main():\n",
    "    print('Enter the Shift Supervisor information')\n",
    "    name = input('Enter the Shift Supervisor name: ')\n",
    "    id_number = input('Enter Employee ID number: ')\n",
    "    annual_salary = float(input('Enter annual salary: $'))\n",
    "    annual_bonus = float(input('Enter annual bonus: $'))\n",
    "\n",
    "    # Create ShiftSupervisor object with data entered\n",
    "    supervisor = ShiftSupervisor(name, id_number, annual_salary, annual_bonus)\n",
    "\n",
    "    # Display object with data entered\n",
    "    print(f'Shift Supervisor Name: {supervisor.get_name()}')\n",
    "    print(f'Employee ID Number: {supervisor.get_id_number()}')\n",
    "    print(f'Annual Salary: ${supervisor.get_annual_salary():,.2f}')\n",
    "    print(f'Annual Bonus: ${supervisor.get_annual_bonus():,.2f}')\n",
    "    \n",
    "# Call the main function\n",
    "if __name__ == '__main__':\n",
    "    main()"
   ]
  },
  {
   "cell_type": "markdown",
   "id": "18c89bb1",
   "metadata": {},
   "source": [
    "# Programming Exercise 2 - MODULE"
   ]
  },
  {
   "cell_type": "code",
   "execution_count": 8,
   "id": "2e7c1a07",
   "metadata": {},
   "outputs": [
    {
     "name": "stdout",
     "output_type": "stream",
     "text": [
      "Enter the Shift Supervisor information\n",
      "Enter the Shift Supervisor name: Ryan Day\n",
      "Enter Employee ID number: 00000\n",
      "Enter annual salary: $1000\n",
      "Enter annual bonus: $500\n",
      "Shift Supervisor Name: Ryan Day\n",
      "Employee ID Number: 00000\n",
      "Annual Salary: $1,000.00\n",
      "Annual Bonus: $500.00\n"
     ]
    }
   ],
   "source": [
    "import manage_employees\n",
    "# Define main function\n",
    "def main():\n",
    "    print('Enter the Shift Supervisor information')\n",
    "    name = input('Enter the Shift Supervisor name: ')\n",
    "    id_number = input('Enter Employee ID number: ')\n",
    "    annual_salary = float(input('Enter annual salary: $'))\n",
    "    annual_bonus = float(input('Enter annual bonus: $'))\n",
    "\n",
    "    # Create ShiftSupervisor object with data entered\n",
    "    supervisor = ShiftSupervisor(name, id_number, annual_salary, annual_bonus)\n",
    "\n",
    "    # Display object with data entered\n",
    "    print(f'Shift Supervisor Name: {supervisor.get_name()}')\n",
    "    print(f'Employee ID Number: {supervisor.get_id_number()}')\n",
    "    print(f'Annual Salary: ${supervisor.get_annual_salary():,.2f}')\n",
    "    print(f'Annual Bonus: ${supervisor.get_annual_bonus():,.2f}')\n",
    "    \n",
    "# Call the main function\n",
    "if __name__ == '__main__':\n",
    "    main()"
   ]
  },
  {
   "cell_type": "code",
   "execution_count": null,
   "id": "20da9dbc",
   "metadata": {},
   "outputs": [],
   "source": []
  }
 ],
 "metadata": {
  "kernelspec": {
   "display_name": "Python 3 (ipykernel)",
   "language": "python",
   "name": "python3"
  },
  "language_info": {
   "codemirror_mode": {
    "name": "ipython",
    "version": 3
   },
   "file_extension": ".py",
   "mimetype": "text/x-python",
   "name": "python",
   "nbconvert_exporter": "python",
   "pygments_lexer": "ipython3",
   "version": "3.11.4"
  }
 },
 "nbformat": 4,
 "nbformat_minor": 5
}
