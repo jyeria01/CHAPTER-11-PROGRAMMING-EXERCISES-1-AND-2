{
 "cells": [
  {
   "cell_type": "markdown",
   "id": "7d6e156b",
   "metadata": {},
   "source": [
    "# PROGRAMMING EXERCISE 1 - Employee and ProductionWorker Classes"
   ]
  },
  {
   "cell_type": "markdown",
   "id": "0b112e6f",
   "metadata": {},
   "source": [
    "# Algorithm"
   ]
  },
  {
   "cell_type": "code",
   "execution_count": 1,
   "id": "a3db8f09",
   "metadata": {},
   "outputs": [],
   "source": [
    "# Define the Employee class\n",
    "# Initialize the Employee object with name and id_number\n",
    "# Mutator method for setting the employee's name\n",
    "# Mutator method for setting the employee's id_number\n",
    "# Accessor method for getting the employee's name\n",
    "# Accessor method for getting the employee's id_number\n",
    "# Define the ProductionWorker class, a subclass of Employee\n",
    "# Mutator method for setting the employee's shift_number\n",
    "# Mutator method for setting the employee's pay_rate\n",
    "# Accessor method for getting the employee's shift_number\n",
    "# Accessor method for getting the employee's pay_rate\n",
    "# Define main function\n",
    "# Create a ProductionWorker object with the entered data\n",
    "# Display the employee's information using accessor methods\n",
    "# Call the main function"
   ]
  },
  {
   "cell_type": "code",
   "execution_count": 6,
   "id": "a8207d17",
   "metadata": {},
   "outputs": [],
   "source": [
    "# Define the Employee class\n",
    "class Employee:\n",
    "\n",
    "# Initialize the Employee object with name and id_number\n",
    "    def __init__(self, name, id_number):\n",
    "        self.__name = name\n",
    "        self.__id_number = id_number\n",
    "        \n",
    "# Mutator method for setting the employee's name\n",
    "    def set_name(self, name):\n",
    "        self.__name = name\n",
    "\n",
    "# Mutator method for setting the employee's id_number\n",
    "    def set_id_number(self, id_number):\n",
    "        self.__id_number = id_number\n",
    "\n",
    "# Accessor method for getting the employee's name\n",
    "    def get_name(self):\n",
    "        return self.__name\n",
    "\n",
    "# Accessor method for getting the employee's id_number\n",
    "    def get_id_number(self):\n",
    "        return self.__id_number\n",
    "    pass\n",
    "\n",
    "# Define the ProductionWorker class, a subclass of Employee\n",
    "\n",
    "\n",
    "# Mutator method for setting the employee's shift_number\n",
    "\n",
    "\n",
    "# Mutator method for setting the employee's pay_rate\n",
    "\n",
    "\n",
    "# Accessor method for getting the employee's shift_number\n",
    "\n",
    "\n",
    "# Accessor method for getting the employee's pay_rate\n",
    "\n",
    "\n",
    "# Define main function\n",
    "\n",
    "\n",
    "# Create a ProductionWorker object with the entered data\n",
    "\n",
    "\n",
    "# Display the employee's information using accessor methods\n",
    "\n",
    "\n",
    "# Call the main function\n"
   ]
  },
  {
   "cell_type": "code",
   "execution_count": null,
   "id": "803e3540",
   "metadata": {},
   "outputs": [],
   "source": []
  }
 ],
 "metadata": {
  "kernelspec": {
   "display_name": "Python 3 (ipykernel)",
   "language": "python",
   "name": "python3"
  },
  "language_info": {
   "codemirror_mode": {
    "name": "ipython",
    "version": 3
   },
   "file_extension": ".py",
   "mimetype": "text/x-python",
   "name": "python",
   "nbconvert_exporter": "python",
   "pygments_lexer": "ipython3",
   "version": "3.11.4"
  }
 },
 "nbformat": 4,
 "nbformat_minor": 5
}
