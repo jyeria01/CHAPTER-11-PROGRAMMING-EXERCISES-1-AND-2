{
 "cells": [
  {
   "cell_type": "markdown",
   "id": "a3d492ba",
   "metadata": {},
   "source": [
    "# PROGRAMMING EXERCISE 1 - Employee and ProductionWorker Classes"
   ]
  },
  {
   "cell_type": "markdown",
   "id": "d79b9c5f",
   "metadata": {},
   "source": [
    "# Algorithm"
   ]
  },
  {
   "cell_type": "code",
   "execution_count": 1,
   "id": "8b55cf86",
   "metadata": {},
   "outputs": [],
   "source": [
    "# Define the Employee class\n",
    "# Initialize the Employee object with name and id_number\n",
    "# Mutator method for setting the employee's name\n",
    "# Mutator method for setting the employee's id_number\n",
    "# Accessor method for getting the employee's name\n",
    "# Accessor method for getting the employee's id_number\n",
    "# Define the ProductionWorker class, a subclass of Employee\n",
    "# Mutator method for setting the employee's shift_number\n",
    "# Mutator method for setting the employee's pay_rate\n",
    "# Accessor method for getting the employee's shift_number\n",
    "# Accessor method for getting the employee's pay_rate\n",
    "# Define main function\n",
    "# Create a ProductionWorker object with the entered data\n",
    "# Display the employee's information using accessor methods\n",
    "# Call the main function"
   ]
  },
  {
   "cell_type": "code",
   "execution_count": 15,
   "id": "fb93ce40",
   "metadata": {
    "scrolled": false
   },
   "outputs": [
    {
     "ename": "SyntaxError",
     "evalue": "invalid syntax (1671979941.py, line 66)",
     "output_type": "error",
     "traceback": [
      "\u001b[1;36m  Cell \u001b[1;32mIn[15], line 66\u001b[1;36m\u001b[0m\n\u001b[1;33m    else: worker.get.shift_number() == 2:\u001b[0m\n\u001b[1;37m                                        ^\u001b[0m\n\u001b[1;31mSyntaxError\u001b[0m\u001b[1;31m:\u001b[0m invalid syntax\n"
     ]
    }
   ],
   "source": [
    "# Define the Employee class\n",
    "class Employee:\n",
    "\n",
    "    # Initialize the Employee object with name and id_number\n",
    "    def __init__(self, name, id_number):\n",
    "        self.__name = name\n",
    "        self.__id_number = id_number\n",
    "        \n",
    "    # Mutator method for setting the employee's name\n",
    "    def set_name(self, name):\n",
    "        self.__name = name\n",
    "\n",
    "    # Mutator method for setting the employee's id_number\n",
    "    def set_id_number(self, id_number):\n",
    "        self.__id_number = id_number\n",
    "\n",
    "    # Accessor method for getting the employee's name\n",
    "    def get_name(self):\n",
    "        return self.__name\n",
    "\n",
    "    # Accessor method for getting the employee's id_number\n",
    "    def get_id_number(self):\n",
    "        return self.__id_number\n",
    "\n",
    "# Define the ProductionWorker class, a subclass of Employee\n",
    "class ProductionWorker(Employee):\n",
    "    \n",
    "    # Initialize the ProductionWorker class object\n",
    "    def __init__(self, name, id_number, shif_number, pay_rate):\n",
    "        Employee.__init__(self, name, id_number)\n",
    "        self.__shift_number = shift_number\n",
    "        self.__pay_rate = pay_rate\n",
    "\n",
    "    # Mutator method for setting the employee's shift_number\n",
    "    def set_shift_number(self, shift_number):\n",
    "        self.__shift_number = shift_number\n",
    "\n",
    "    # Mutator method for setting the employee's pay_rate\n",
    "    def set_pay_rate(self, pay_rate):\n",
    "        self.__pay_rate = pay_rate\n",
    "\n",
    "    # Accessor method for getting the employee's shift_number\n",
    "    def get_shift_number(self):\n",
    "        return self.__shift_number\n",
    "\n",
    "    # Accessor method for getting the employee's pay_rate\n",
    "    def get_pay_rate(self):\n",
    "        return self.__pay_rate\n",
    "\n",
    "# Define main function\n",
    "def main():\n",
    "    print('Enter the employee information')\n",
    "    name = input('Enter Employee name: ')\n",
    "    id_number = inputer('Enter Employee ID number')\n",
    "    shift_number = int(input('Enter shift number (1 for day, 2 for night): '))\n",
    "    pay_rate = float(input('Enter hourly pay rate: '))\n",
    "\n",
    "# Create a ProductionWorker object with the entered data\n",
    "    worker = ProductionWorker(name, id_number, shift_number, pay_rate)\n",
    "\n",
    "# Display the employee's information using accessor methods\n",
    "    print(f'Employee Name: {worker.get_name()}')\n",
    "    print(f'Employee ID Number: {worker.get_id_number()}')\n",
    "    if work.get_shift_number() == 1:\n",
    "        print('Shift: Night')\n",
    "    else: worker.get.shift_number() == 2:\n",
    "        print('Shift: Night')\n",
    "        pass\n",
    "    \n",
    "# Call the main function\n"
   ]
  },
  {
   "cell_type": "code",
   "execution_count": null,
   "id": "c1bb6e36",
   "metadata": {},
   "outputs": [],
   "source": []
  }
 ],
 "metadata": {
  "kernelspec": {
   "display_name": "Python 3 (ipykernel)",
   "language": "python",
   "name": "python3"
  },
  "language_info": {
   "codemirror_mode": {
    "name": "ipython",
    "version": 3
   },
   "file_extension": ".py",
   "mimetype": "text/x-python",
   "name": "python",
   "nbconvert_exporter": "python",
   "pygments_lexer": "ipython3",
   "version": "3.11.4"
  }
 },
 "nbformat": 4,
 "nbformat_minor": 5
}
